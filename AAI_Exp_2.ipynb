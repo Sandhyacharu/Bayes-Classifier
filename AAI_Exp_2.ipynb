{
  "nbformat": 4,
  "nbformat_minor": 0,
  "metadata": {
    "colab": {
      "provenance": []
    },
    "kernelspec": {
      "name": "python3",
      "display_name": "Python 3"
    },
    "language_info": {
      "name": "python"
    }
  },
  "cells": [
    {
      "cell_type": "code",
      "execution_count": 1,
      "metadata": {
        "id": "3YqlxiMo2Wdl"
      },
      "outputs": [],
      "source": [
        "import numpy as np\n",
        "from sklearn.datasets import load_iris\n",
        "from sklearn.model_selection import train_test_split\n",
        "from sklearn.naive_bayes import GaussianNB\n",
        "from sklearn.metrics import accuracy_score"
      ]
    },
    {
      "cell_type": "code",
      "source": [
        "class BayesClassifier:\n",
        "  def __init__(self):\n",
        "    self.clf=GaussianNB()\n",
        "  def fit(self,X,y):\n",
        "    self.clf.fit(X,y)\n",
        "  def predict(self,X):\n",
        "    return self.clf.predict(X)"
      ],
      "metadata": {
        "id": "nXiSUV4b2Y8h"
      },
      "execution_count": 2,
      "outputs": []
    },
    {
      "cell_type": "code",
      "source": [
        "#Load the Iris dataset\n",
        "iris=load_iris()"
      ],
      "metadata": {
        "id": "9D6DHsZc2aok"
      },
      "execution_count": 3,
      "outputs": []
    },
    {
      "cell_type": "code",
      "source": [
        "X_train,X_test,y_train,y_test=train_test_split(iris.data,iris.target,test_size=0.3,random_state=38)\n",
        "clf=BayesClassifier()\n",
        "clf.fit(X_train,y_train)\n",
        "y_pred=clf.predict(X_test)"
      ],
      "metadata": {
        "id": "Bg_tFDIm2cS2"
      },
      "execution_count": 5,
      "outputs": []
    },
    {
      "cell_type": "code",
      "source": [
        "accuracy=accuracy_score(y_test,y_pred)\n",
        "print(\"Accuracy:\",accuracy)"
      ],
      "metadata": {
        "colab": {
          "base_uri": "https://localhost:8080/"
        },
        "id": "Ab9Fl0LS2k6n",
        "outputId": "00534fc8-d0e2-4be5-f623-7c42777e1322"
      },
      "execution_count": 6,
      "outputs": [
        {
          "output_type": "stream",
          "name": "stdout",
          "text": [
            "Accuracy: 0.9777777777777777\n"
          ]
        }
      ]
    },
    {
      "cell_type": "code",
      "source": [],
      "metadata": {
        "id": "s0ShA6vi3Lo3"
      },
      "execution_count": null,
      "outputs": []
    }
  ]
}